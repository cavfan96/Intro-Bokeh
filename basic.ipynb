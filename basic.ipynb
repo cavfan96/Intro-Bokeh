{
 "cells": [
  {
   "cell_type": "markdown",
   "metadata": {},
   "source": [
    "# Bokeh Udemy Course Development\n",
    "## Section 1\n",
    "### Basic Graphs and Bokeh Code"
   ]
  },
  {
   "cell_type": "code",
   "execution_count": 62,
   "metadata": {},
   "outputs": [
    {
     "data": {
      "text/plain": [
       "'/Users/paulhicks/Desktop/bokeh'"
      ]
     },
     "execution_count": 62,
     "metadata": {},
     "output_type": "execute_result"
    }
   ],
   "source": [
    "pwd"
   ]
  },
  {
   "cell_type": "code",
   "execution_count": 63,
   "metadata": {},
   "outputs": [],
   "source": [
    "#import other libraries\n",
    "import numpy as np\n",
    "import pandas as pd\n",
    "import matplotlib.pyplot as plt"
   ]
  },
  {
   "cell_type": "markdown",
   "metadata": {},
   "source": [
    "### Bokeh documentation\n",
    "\n",
    "https://docs.bokeh.org/en/latest/docs/user_guide/tools.html#built-in-tools"
   ]
  },
  {
   "cell_type": "markdown",
   "metadata": {},
   "source": [
    "### Create a Basic Line Graph Using Bokeh"
   ]
  },
  {
   "cell_type": "code",
   "execution_count": 65,
   "metadata": {},
   "outputs": [
    {
     "data": {
      "text/plain": [
       "'/Users/paulhicks/Desktop/bokeh/Line.html'"
      ]
     },
     "execution_count": 65,
     "metadata": {},
     "output_type": "execute_result"
    }
   ],
   "source": [
    "#import bokeh\n",
    "from bokeh.plotting import figure\n",
    "from bokeh.io import output_file, show, save\n",
    "\n",
    "#data\n",
    "x = [1, 2, 3, 4, 5]\n",
    "y = [6, 7, 8, 9, 10]\n",
    "\n",
    "#output file\n",
    "output_file(\"Line.html\")\n",
    "\n",
    "#create figure object (instance)\n",
    "f = figure()\n",
    "\n",
    "#create line plot - figure object with line method\n",
    "f.line(x, y)\n",
    "\n",
    "#show the figure\n",
    "save(f)"
   ]
  },
  {
   "cell_type": "markdown",
   "metadata": {},
   "source": [
    "### Scatter Plot with different data"
   ]
  },
  {
   "cell_type": "code",
   "execution_count": 66,
   "metadata": {},
   "outputs": [
    {
     "data": {
      "text/plain": [
       "'/Users/paulhicks/Desktop/bokeh/Scatter.html'"
      ]
     },
     "execution_count": 66,
     "metadata": {},
     "output_type": "execute_result"
    }
   ],
   "source": [
    "#new data\n",
    "x1 = np.random.randint(0, 100, size = 200)\n",
    "y1 = np.random.randint(0, 500, size = 200)\n",
    "\n",
    "#output file\n",
    "output_file(\"Scatter.html\")\n",
    "\n",
    "f1 = figure()\n",
    "\n",
    "#create line plot - figure object with line method\n",
    "f1.scatter(x1, y1)\n",
    "\n",
    "#show the figure\n",
    "save(f1)"
   ]
  },
  {
   "cell_type": "markdown",
   "metadata": {},
   "source": [
    "## Triangle"
   ]
  },
  {
   "cell_type": "code",
   "execution_count": 67,
   "metadata": {},
   "outputs": [
    {
     "data": {
      "text/plain": [
       "'/Users/paulhicks/Desktop/bokeh/triangle.html'"
      ]
     },
     "execution_count": 67,
     "metadata": {},
     "output_type": "execute_result"
    }
   ],
   "source": [
    "#data\n",
    "x2 = [3, 7.5, 10]\n",
    "y2 = [3, 6, 9]\n",
    "\n",
    "#output\n",
    "output_file(\"triangle.html\")\n",
    "\n",
    "#figure object\n",
    "f2 = figure()\n",
    "\n",
    "#triangle graph\n",
    "f2.triangle(x2, y2)\n",
    "\n",
    "#plot it\n",
    "save(f2)"
   ]
  },
  {
   "cell_type": "markdown",
   "metadata": {},
   "source": [
    "## Circle"
   ]
  },
  {
   "cell_type": "code",
   "execution_count": 68,
   "metadata": {},
   "outputs": [
    {
     "data": {
      "text/plain": [
       "'/Users/paulhicks/Desktop/bokeh/circle.html'"
      ]
     },
     "execution_count": 68,
     "metadata": {},
     "output_type": "execute_result"
    }
   ],
   "source": [
    "#output\n",
    "output_file(\"circle.html\")\n",
    "\n",
    "#figure object\n",
    "f3 = figure()\n",
    "\n",
    "#triangle graph\n",
    "f3.circle(x2, y2)\n",
    "\n",
    "#plot it\n",
    "save(f3)"
   ]
  },
  {
   "cell_type": "code",
   "execution_count": 69,
   "metadata": {},
   "outputs": [
    {
     "data": {
      "text/plain": [
       "'/Users/paulhicks/Desktop/bokeh/line_from_csv.html'"
      ]
     },
     "execution_count": 69,
     "metadata": {},
     "output_type": "execute_result"
    }
   ],
   "source": [
    "df = pd.read_csv(\"data.csv\")\n",
    "\n",
    "x4 = df[\"x\"]\n",
    "y4 = df[\"y\"]\n",
    "\n",
    "#output\n",
    "output_file(\"line_from_csv.html\")\n",
    "\n",
    "#figure object\n",
    "f4 = figure()\n",
    "\n",
    "#triangle graph\n",
    "f4.line(x4, y4)\n",
    "\n",
    "#plot it\n",
    "save(f4)"
   ]
  },
  {
   "cell_type": "markdown",
   "metadata": {},
   "source": [
    "## Create Line Graph of Female Engineering Students Over time\n",
    "http://pythonhow.com/data/bachelors.csv"
   ]
  },
  {
   "cell_type": "code",
   "execution_count": 70,
   "metadata": {},
   "outputs": [],
   "source": [
    "# create df from downloaded csv\n",
    "url = \"http://pythonhow.com/data/bachelors.csv\"\n",
    "df2 = pd.read_csv(url)"
   ]
  },
  {
   "cell_type": "code",
   "execution_count": 71,
   "metadata": {},
   "outputs": [
    {
     "data": {
      "text/plain": [
       "'/Users/paulhicks/Desktop/bokeh/engineeering_line_from_csv.html'"
      ]
     },
     "execution_count": 71,
     "metadata": {},
     "output_type": "execute_result"
    }
   ],
   "source": [
    "# get data from df\n",
    "x5=df2[\"Year\"]\n",
    "y5=df2[\"Engineering\"]\n",
    "\n",
    "#output\n",
    "output_file(\"engineeering_line_from_csv.html\")\n",
    "\n",
    "#figure object\n",
    "f5 = figure()\n",
    "\n",
    "#line graph\n",
    "f5.line(x5, y5)\n",
    "\n",
    "#plot it\n",
    "save(f5)"
   ]
  },
  {
   "cell_type": "code",
   "execution_count": null,
   "metadata": {},
   "outputs": [],
   "source": []
  }
 ],
 "metadata": {
  "kernelspec": {
   "display_name": "Python 3",
   "language": "python",
   "name": "python3"
  },
  "language_info": {
   "codemirror_mode": {
    "name": "ipython",
    "version": 3
   },
   "file_extension": ".py",
   "mimetype": "text/x-python",
   "name": "python",
   "nbconvert_exporter": "python",
   "pygments_lexer": "ipython3",
   "version": "3.8.3"
  }
 },
 "nbformat": 4,
 "nbformat_minor": 4
}
