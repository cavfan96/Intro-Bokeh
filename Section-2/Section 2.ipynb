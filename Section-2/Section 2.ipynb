{
 "cells": [
  {
   "cell_type": "markdown",
   "metadata": {},
   "source": [
    "# Bokeh Udemy Course Development\n",
    "## Section 2\n",
    "### Basic Graphs and Bokeh Code"
   ]
  },
  {
   "cell_type": "code",
   "execution_count": null,
   "metadata": {},
   "outputs": [],
   "source": [
    "pwd"
   ]
  },
  {
   "cell_type": "code",
   "execution_count": null,
   "metadata": {},
   "outputs": [],
   "source": [
    "#import other libraries\n",
    "import numpy as np\n",
    "import pandas as pd\n",
    "import matplotlib.pyplot as plt"
   ]
  },
  {
   "cell_type": "markdown",
   "metadata": {},
   "source": [
    "### Bokeh documentation\n",
    "\n",
    "https://docs.bokeh.org/en/latest/docs/user_guide/tools.html#built-in-tools"
   ]
  },
  {
   "cell_type": "markdown",
   "metadata": {},
   "source": [
    "### Create a Flower Species Plot Using Iris Data Set and Bokeh"
   ]
  },
  {
   "cell_type": "code",
   "execution_count": 32,
   "metadata": {},
   "outputs": [
    {
     "name": "stderr",
     "output_type": "stream",
     "text": [
      "BokehDeprecationWarning: 'legend' keyword is deprecated, use explicit 'legend_label', 'legend_field', or 'legend_group' keywords instead\n",
      "BokehDeprecationWarning: 'legend' keyword is deprecated, use explicit 'legend_label', 'legend_field', or 'legend_group' keywords instead\n",
      "BokehDeprecationWarning: 'legend' keyword is deprecated, use explicit 'legend_label', 'legend_field', or 'legend_group' keywords instead\n"
     ]
    }
   ],
   "source": [
    "#import bokeh\n",
    "from bokeh.plotting import figure\n",
    "from bokeh.io import output_file, show\n",
    "from bokeh.sampledata.iris import flowers\n",
    "#from bokeh.models import Range1D # this is throwing an error\n",
    "from bokeh.models import PanTool, ResetTool, HoverTool, WheelZoomTool #tools needed to interact with the graph\n",
    "from PIL import ImageGrab #for Mac\n",
    "#for Windows, instead of PIL, you'd use the following\n",
    "# from screeninfo import get_monitors\n",
    "\n",
    "#output file\n",
    "output_file(\"iris.html\")\n",
    "\n",
    "#create figure object (instance)\n",
    "f = figure()\n",
    "\n",
    "#Style the tools\n",
    "f.tools=[PanTool(),ResetTool(), WheelZoomTool()] #adds the Pan and Reset Tool\n",
    "# default adding of a hover tool\n",
    "# f.add_tools(HoverTool()) #adds to the default tools with the HoverTool - make sure you imported it\n",
    "\n",
    "f.toolbar_location=\"above\"\n",
    "f.toolbar.logo=None #get rid of Bokeh logo\n",
    "# custom hover tool\n",
    "hover=HoverTool(tooltips=[(\"Species\",\"@species\"),(\"Sepal Width\",\"@sepal_width\")])\n",
    "f.add_tools(hover)\n",
    "\n",
    "#Stylize the Plot Area - basic\n",
    "#f.plot_width=1100 #pixels\n",
    "#f.plot_height=650\n",
    "#f.background_fill_color=\"#9BC7F5\"\n",
    "#f.background_fill_alpha=0.3 #coefficient of transparency from 0-1\n",
    "\n",
    "#Style Plot Area - Advanced\n",
    "f.plot_width=int(ImageGrab.grab().width/2) #returns based on screen?\n",
    "f.plot_height=int(ImageGrab.grab().height/2 - 50)\n",
    "f.sizing_mode = \"stretch_both\" #resizes automatically\n",
    "f.background_fill_color=\"#9BC7F5\"\n",
    "f.background_fill_alpha=0.3 \n",
    "\n",
    "\n",
    "#create a color for the categorical classes\n",
    "colormap={'setosa':'red', 'versicolor':'green', 'virginica':'blue'}\n",
    "flowers['color']=[colormap[x] for x in flowers['species']] #list comprehension\n",
    "\n",
    "#create glyphs circle = \"points\", alternative #1\n",
    "## f.circle(x=flowers[\"petal_length\"], y=flowers[\"petal_width\"],size=flowers['sepal_width']*2,fill_alpha=0.2,\n",
    "##        color=flowers[\"color\"], line_dash=[5,3], legend='Flowers')\n",
    "\n",
    "# summary of style add-ons\n",
    "# size based on attributed, multiplied by 2 so that it is easier to see\n",
    "# fill_alpha makes it 0.2 transparent so 20%\n",
    "# color is doing essentially a groupby for the class, based on the pandas color map done in preceding code\n",
    "# line_dash is making the outline of each circle a dashed line\n",
    "\n",
    "#alt code if you want a legend, alternative #2\n",
    "f.circle(x=flowers[\"petal_length\"][flowers['species']==\"setosa\"], y=flowers[\"petal_width\"][flowers['species']==\"setosa\"],\n",
    "        size=flowers['sepal_width'][flowers['species']==\"setosa\"]*2,fill_alpha=0.2,\n",
    "        color=flowers[\"color\"][flowers['species']==\"setosa\"], line_dash=[5,3], legend='Setosa')\n",
    "f.circle(x=flowers[\"petal_length\"][flowers['species']==\"versicolor\"], y=flowers[\"petal_width\"][flowers['species']==\"versicolor\"],\n",
    "        size=flowers['sepal_width'][flowers['species']==\"versicolor\"]*2,fill_alpha=0.2,\n",
    "        color=flowers[\"color\"][flowers['species']==\"versicolor\"], line_dash=[5,3], legend='Versicolor')\n",
    "f.circle(x=flowers[\"petal_length\"][flowers['species']==\"virginica\"], y=flowers[\"petal_width\"][flowers['species']==\"virginica\"],\n",
    "        size=flowers['sepal_width'][flowers['species']==\"virginica\"]*2,fill_alpha=0.2,\n",
    "        color=flowers[\"color\"][flowers['species']==\"virginica\"], line_dash=[5,3], legend='Virginica')\n",
    "\n",
    "#Style the Legend\n",
    "f.legend.location='top_left' #expects a string\n",
    "#f.legend.location=(75,55) #if you want specific px coordinates\n",
    "f.legend.background_fill_alpha=0.40\n",
    "f.legend.border_line_color=\"black\"\n",
    "#f.legend.legend_padding=20 #deprecated\n",
    "#f.legend.legend_margin=\"32px\" #deprecated\n",
    "f.legend.label_text_color=\"#8443E6\"\n",
    "f.legend.label_text_font=\"times\"\n",
    "\n",
    "#Title\n",
    "f.title.text=\"Iris Morphology\"\n",
    "f.title.text_color=\"#3A4BFC\"\n",
    "f.title.text_font=\"Modern\"\n",
    "f.title.text_font_size=\"24px\" #must add # of px for translation into CSS\n",
    "f.title.align=\"center\"\n",
    "\n",
    "#Axes\n",
    "f.axis.minor_tick_line_color=\"blue\" # can add an x or y infront of \n",
    "f.yaxis.major_label_orientation=\"vertical\"\n",
    "f.xaxis.visible=True #True is default, change to False to hide\n",
    "#f.xaxis.minor_tick_line_color=None #hides the minor ticks\n",
    "f.xaxis.minor_tick_in=-6 #-6 px inside the axis, can do negative or positive values\n",
    "#f.xaxis.minor_tick_out=5 #5 px outside the axis\n",
    "f.xaxis.axis_label=\"Petal Length\"\n",
    "f.yaxis.axis_label=\"Petal Width\"\n",
    "f.axis.axis_label_text_color=\"#BC70FF\"\n",
    "f.axis.major_label_text_color=\"#BC70FF\"\n",
    "f.axis.major_label_text_font_size=\"14px\"\n",
    "f.axis.axis_label_text_font_size=\"16px\" \n",
    "\n",
    "#axes geometry\n",
    "#f.x_range=Range1d(start=0,end=10, bounds=(3,5)) #bounds limits the panning\n",
    "#f.y_range=Range1d(start=0,end=5)\n",
    "#f.xaxis.bounds=(2,5) #only shows ticks between 3 and 5\n",
    "#f.xaxis[0].ticker.desired_num_ticks=2 # you might have more than 1 xaxis\n",
    "#f.xaxis[0].ticker.desired_num_minor_ticks=10 # change # of minor ticks\n",
    "\n",
    "#Style the grid\n",
    "f.xgrid.grid_line_color=\"gray\" #grid color\n",
    "f.ygrid.grid_line_color=\"gray\" #grid color\n",
    "f.grid.grid_line_alpha=0.25 #make the grid lines transparent somewhat\n",
    "#f.grid.grid_line_dash=[5,3] #make them dashed with 5px of line, 3px of space\n",
    "\n",
    "#show the figure\n",
    "show(f)"
   ]
  },
  {
   "cell_type": "markdown",
   "metadata": {},
   "source": [
    "### Using Categorical Data"
   ]
  },
  {
   "cell_type": "code",
   "execution_count": null,
   "metadata": {},
   "outputs": [],
   "source": [
    "#import libraries\n",
    "# from bokeh.plotting import figure\n",
    "# from bokeh.io import output_file, show\n",
    "\n",
    "#prepare output\n",
    "output_file(\"students.html\")\n",
    "\n",
    "#create figure\n",
    "f1 = figure(x_range=[\"F\", \"D-\", \"D\", \"D+\", \"C-\", \"C\", \"C+\", \"B-\", \"B\", \"B+\", \"A-\", \"A\", \"A+\"],\n",
    "           y_range=[\"F\", \"D-\", \"D\", \"D+\", \"C-\", \"C\", \"C+\", \"B-\", \"B\", \"B+\", \"A-\", \"A\", \"A+\"])\n",
    "\n",
    "#create glyphs\n",
    "f1.circle(x=[\"A\", \"B\"], y=[\"C\",\"D\"],size=8)\n",
    "\n",
    "show(f1)"
   ]
  },
  {
   "cell_type": "code",
   "execution_count": null,
   "metadata": {},
   "outputs": [],
   "source": []
  }
 ],
 "metadata": {
  "kernelspec": {
   "display_name": "Python 3",
   "language": "python",
   "name": "python3"
  },
  "language_info": {
   "codemirror_mode": {
    "name": "ipython",
    "version": 3
   },
   "file_extension": ".py",
   "mimetype": "text/x-python",
   "name": "python",
   "nbconvert_exporter": "python",
   "pygments_lexer": "ipython3",
   "version": "3.8.3"
  }
 },
 "nbformat": 4,
 "nbformat_minor": 4
}
